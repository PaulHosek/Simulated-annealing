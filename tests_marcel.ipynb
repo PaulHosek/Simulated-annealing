{
 "cells": [
  {
   "cell_type": "code",
   "execution_count": 1,
   "metadata": {},
   "outputs": [],
   "source": [
    "from charges import Charges\n",
    "from plotting import *\n",
    "\n",
    "import numpy as np\n",
    "import matplotlib.pyplot as plt\n",
    "from matplotlib.animation import FuncAnimation\n",
    "from IPython import display\n",
    "import time\n",
    "from itertools import combinations\n",
    "\n",
    "%matplotlib widget"
   ]
  },
  {
   "cell_type": "code",
   "execution_count": 2,
   "metadata": {},
   "outputs": [],
   "source": [
    "# Parameters\n",
    "methods = [\"linear\", \"exponential_even_spacing\", \"exponential_0.003\"]\n",
    "\n",
    "n = 12\n",
    "method = methods[2]\n",
    "iterations = 100\n",
    "markov = [1, 5, 10, 50, 100, 500, 1000]\n",
    "\n",
    "# ch = Charges(n)\n",
    "# start = np.copy(ch.particles)\n",
    "# print(f\"Total energy of the system: {ch.evaluate_configuration()}\")\n",
    "convergence = 65.0"
   ]
  },
  {
   "cell_type": "code",
   "execution_count": 3,
   "metadata": {},
   "outputs": [
    {
     "name": "stdout",
     "output_type": "stream",
     "text": [
      "0 10000 1\n",
      "Iteration 52/10000 at 42.90648609056969 degreess\n",
      "1 10000 1\n",
      "Iteration 69/10000 at 40.77311855936463 degreess\n",
      "2 10000 1\n",
      "Iteration 62/10000 at 41.63840778685455 degreess\n",
      "3 10000 1\n",
      "Iteration 54/10000 at 42.64981794845657 degreess\n",
      "4 10000 1\n",
      "Iteration 54/10000 at 42.64981794845657 degreess\n",
      "0 2000 5\n",
      "Iteration 14/2000 at 41.14173290280092 degreess\n",
      "1 2000 5\n",
      "Iteration 16/2000 at 39.925810937968855 degrees\n",
      "2 2000 5\n",
      "Iteration 14/2000 at 41.14173290280092 degreess\n",
      "3 2000 5\n",
      "Iteration 12/2000 at 42.39468520439579 degreess\n",
      "4 2000 5\n",
      "Iteration 9/2000 at 44.346021835857876 degrees\n",
      "0 1000 10\n",
      "Iteration 5/1000 at 44.346021835857876 degrees\n",
      "1 1000 10\n",
      "Iteration 6/1000 at 43.03539882125289 degreess\n",
      "2 1000 10\n",
      "Iteration 5/1000 at 44.346021835857876 degrees\n",
      "3 1000 10\n",
      "Iteration 9/1000 at 39.33139305332767 degreess\n",
      "4 1000 10\n",
      "Iteration 7/1000 at 41.7635105705636 degreesss\n",
      "0 500 20\n",
      "Iteration 3/500 at 44.346021835857876 degrees\n",
      "1 500 20\n",
      "Iteration 5/500 at 39.33139305332767 degreess\n",
      "2 500 20\n",
      "Iteration 3/500 at 44.346021835857876 degrees\n",
      "3 500 20\n",
      "Iteration 3/500 at 44.346021835857876 degrees\n",
      "4 500 20\n",
      "Iteration 3/500 at 44.346021835857876 degrees\n",
      "0 100 100\n",
      "Iteration 1/100 at 50.0 degrees\n",
      "1 100 100\n",
      "Iteration 1/100 at 50.0 degrees\n",
      "2 100 100\n",
      "Iteration 1/100 at 50.0 degrees\n",
      "3 100 100\n",
      "Iteration 1/100 at 50.0 degrees\n",
      "4 100 100\n",
      "Iteration 1/100 at 50.0 degrees\n",
      "0 50 200\n",
      "Iteration 1/50 at 50.0 degrees\n",
      "1 50 200\n",
      "Iteration 1/50 at 50.0 degrees\n",
      "2 50 200\n",
      "Iteration 1/50 at 50.0 degrees\n",
      "3 50 200\n",
      "Iteration 1/50 at 50.0 degrees\n",
      "4 50 200\n",
      "Iteration 1/50 at 50.0 degrees\n"
     ]
    }
   ],
   "source": [
    "res_list = []\n",
    "\n",
    "#loop over iteration/markov combinations\n",
    "for m in markov:\n",
    "    temp = []\n",
    "    # do combination 10 times\n",
    "    for j in range(5):\n",
    "        ch = Charges(n)\n",
    "        print(j, iterations, m)\n",
    "        res = ch.iterate_SA_markovergence(0.1, 50, iterations, methods[2], m, convergence, force=1)\n",
    "        print('')\n",
    "        temp.append(res)\n",
    "    res_list.append(temp)"
   ]
  },
  {
   "cell_type": "code",
   "execution_count": null,
   "metadata": {},
   "outputs": [],
   "source": [
    "fig, ax = plt.subplots()\n",
    "# plt.plot(markov, [np.mean(r) for r in res_list])\n",
    "plt.errorbar(markov, [np.mean(r) for r in res_list], [np.std(r) for r in res_list])\n",
    "ax.set_xscale('log')\n",
    "ax.set_xlabel('Markov chain length')\n",
    "ax.set_ylabel('Number of evaluations before convergence to E=65')\n",
    "ax.set_ylim(0,600)\n",
    "plt.show()"
   ]
  },
  {
   "cell_type": "code",
   "execution_count": null,
   "metadata": {},
   "outputs": [],
   "source": [
    "res_list"
   ]
  },
  {
   "cell_type": "code",
   "execution_count": null,
   "metadata": {},
   "outputs": [],
   "source": []
  }
 ],
 "metadata": {
  "kernelspec": {
   "display_name": "Python 3.10.6 64-bit",
   "language": "python",
   "name": "python3"
  },
  "language_info": {
   "codemirror_mode": {
    "name": "ipython",
    "version": 3
   },
   "file_extension": ".py",
   "mimetype": "text/x-python",
   "name": "python",
   "nbconvert_exporter": "python",
   "pygments_lexer": "ipython3",
   "version": "3.10.6"
  },
  "orig_nbformat": 4,
  "vscode": {
   "interpreter": {
    "hash": "916dbcbb3f70747c44a77c7bcd40155683ae19c65e1c03b4aa3499c5328201f1"
   }
  }
 },
 "nbformat": 4,
 "nbformat_minor": 2
}
