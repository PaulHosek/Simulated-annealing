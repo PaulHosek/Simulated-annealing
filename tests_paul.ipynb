{
 "cells": [
  {
   "cell_type": "code",
   "execution_count": 1,
   "metadata": {
    "collapsed": true,
    "pycharm": {
     "name": "#%%\n"
    }
   },
   "outputs": [],
   "source": [
    "import numpy as np\n",
    "import matplotlib.pyplot as plt\n",
    "import math\n",
    "import numba as nb\n",
    "import charges as charges\n",
    "import plotting as plotting"
   ]
  },
  {
   "cell_type": "code",
   "execution_count": 2,
   "outputs": [],
   "source": [
    "high_temp = 50\n",
    "low_temp = 0.1\n",
    "steps = 100\n",
    "linear = np.linspace(high_temp, low_temp, steps)"
   ],
   "metadata": {
    "collapsed": false,
    "pycharm": {
     "name": "#%%\n"
    }
   }
  },
  {
   "cell_type": "code",
   "execution_count": 3,
   "outputs": [],
   "source": [
    "geometric = np.geomspace(high_temp,low_temp,steps)"
   ],
   "metadata": {
    "collapsed": false,
    "pycharm": {
     "name": "#%%\n"
    }
   }
  },
  {
   "cell_type": "code",
   "execution_count": 4,
   "outputs": [
    {
     "name": "stdout",
     "output_type": "stream",
     "text": [
      "0.5\n"
     ]
    }
   ],
   "source": [
    "# exponential = np.logspace(-9,0,steps, base=2)\n",
    "diff = high_temp/steps\n",
    "print(diff)"
   ],
   "metadata": {
    "collapsed": false,
    "pycharm": {
     "name": "#%%\n"
    }
   }
  },
  {
   "cell_type": "code",
   "execution_count": 5,
   "outputs": [
    {
     "data": {
      "text/plain": "<Figure size 432x288 with 1 Axes>",
      "image/png": "[encoded data removed]"
     },
     "metadata": {
      "needs_background": "light"
     },
     "output_type": "display_data"
    }
   ],
   "source": [
    "x = np.linspace(low_temp,high_temp,steps)\n",
    "plt.figure()\n",
    "plt.plot(geometric)\n",
    "plt.plot(linear)\n",
    "# plt.scatter(x,0.001**x, marker=2)\n",
    "plt.plot([high_temp * np.exp(-diff*x) for x in range(steps)])\n",
    "plt.plot(high_temp ** (np.array(range(steps))*-0.001))\n",
    "plt.show()"
   ],
   "metadata": {
    "collapsed": false,
    "pycharm": {
     "name": "#%%\n"
    }
   }
  },
  {
   "cell_type": "code",
   "execution_count": 6,
   "outputs": [],
   "source": [
    "# np.exp(np.arange(low_temp, high_temp)*-0.001) * high_temp"
   ],
   "metadata": {
    "collapsed": false,
    "pycharm": {
     "name": "#%%\n"
    }
   }
  },
  {
   "cell_type": "code",
   "execution_count": 7,
   "outputs": [],
   "source": [
    "# [high_temp * np.exp(-0.001*x) for x in range(steps)]"
   ],
   "metadata": {
    "collapsed": false,
    "pycharm": {
     "name": "#%%\n"
    }
   }
  },
  {
   "cell_type": "code",
   "execution_count": 8,
   "outputs": [],
   "source": [
    "# [high_temp * np.exp(-0.001*x) for x in range(steps)]"
   ],
   "metadata": {
    "collapsed": false,
    "pycharm": {
     "name": "#%%\n"
    }
   }
  },
  {
   "cell_type": "code",
   "execution_count": 9,
   "outputs": [],
   "source": [
    "# plt.plot([high_temp * np.exp(-0.001*x) for x in range(10000)])"
   ],
   "metadata": {
    "collapsed": false,
    "pycharm": {
     "name": "#%%\n"
    }
   }
  },
  {
   "cell_type": "code",
   "execution_count": 9,
   "outputs": [],
   "source": [
    "\n"
   ],
   "metadata": {
    "collapsed": false,
    "pycharm": {
     "name": "#%%\n"
    }
   }
  },
  {
   "cell_type": "code",
   "execution_count": 10,
   "outputs": [],
   "source": [
    "p1 = np.array([1,1])\n",
    "p2 = np.array([2,2])\n",
    "delta_x = np.abs(p1[0] - p2[0])\n",
    "delta_y = np.abs(p1[1] - p2[1])\n",
    "opp_angle = math.radians(90-math.degrees(math.atan(delta_y/delta_x)))\n",
    "opp_x = math.sin(math.radians((opp_angle)))"
   ],
   "metadata": {
    "collapsed": false,
    "pycharm": {
     "name": "#%%\n"
    }
   }
  },
  {
   "cell_type": "code",
   "execution_count": 11,
   "outputs": [
    {
     "data": {
      "text/plain": "array([[ 1, 10],\n       [ 2, 20],\n       [ 3, 30],\n       [ 4, 40],\n       [ 5, 50]])"
     },
     "execution_count": 11,
     "metadata": {},
     "output_type": "execute_result"
    }
   ],
   "source": [
    "arr_2d = np.vstack(([1,2,3,4,5],[10,20,30,40,50])).T\n",
    "arr_2d"
   ],
   "metadata": {
    "collapsed": false,
    "pycharm": {
     "name": "#%%\n"
    }
   }
  },
  {
   "cell_type": "code",
   "execution_count": 12,
   "outputs": [
    {
     "data": {
      "text/plain": "array([[ 1, 10,  1, 10],\n       [ 1, 10,  2, 20],\n       [ 1, 10,  3, 30],\n       [ 1, 10,  4, 40],\n       [ 1, 10,  5, 50],\n       [ 2, 20,  1, 10],\n       [ 2, 20,  2, 20],\n       [ 2, 20,  3, 30],\n       [ 2, 20,  4, 40],\n       [ 2, 20,  5, 50],\n       [ 3, 30,  1, 10],\n       [ 3, 30,  2, 20],\n       [ 3, 30,  3, 30],\n       [ 3, 30,  4, 40],\n       [ 3, 30,  5, 50],\n       [ 4, 40,  1, 10],\n       [ 4, 40,  2, 20],\n       [ 4, 40,  3, 30],\n       [ 4, 40,  4, 40],\n       [ 4, 40,  5, 50],\n       [ 5, 50,  1, 10],\n       [ 5, 50,  2, 20],\n       [ 5, 50,  3, 30],\n       [ 5, 50,  4, 40],\n       [ 5, 50,  5, 50]])"
     },
     "execution_count": 12,
     "metadata": {},
     "output_type": "execute_result"
    }
   ],
   "source": [
    "a1, a2 = arr_2d, arr_2d\n",
    "m1,n1 = a1.shape\n",
    "m2,n2 = a2.shape\n",
    "out = np.zeros((m1,m2,n1+n2),dtype=int)\n",
    "out[:,:,:n1] = a1[:,None,:]\n",
    "out[:,:,n1:] = a2\n",
    "out.shape = (m1*m2,-1)\n",
    "out"
   ],
   "metadata": {
    "collapsed": false,
    "pycharm": {
     "name": "#%%\n"
    }
   }
  },
  {
   "cell_type": "code",
   "execution_count": 12,
   "outputs": [],
   "source": [],
   "metadata": {
    "collapsed": false,
    "pycharm": {
     "name": "#%%\n"
    }
   }
  },
  {
   "cell_type": "code",
   "execution_count": 13,
   "outputs": [],
   "source": [
    "particles = arr_2d\n",
    "def euclidean_vec(combs):\n",
    "    \"\"\" Compute the euclidean distance between two points\n",
    "    \"\"\"\n",
    "\n",
    "    return np.sqrt((combs[:,0]- combs[:,1])**2 + (combs[:,2]- combs[:,3])**2)\n",
    "    # return np.linalg.norm(p2 - p1)\n",
    "\n",
    "def evaluate_configuration_fast(particles):\n",
    "    \"\"\"No idea if this is acc faster.\"\"\"\n",
    "\n",
    "    # generate combinations\n",
    "    m, n = particles.shape\n",
    "    comb = np.zeros((m, m, n + n), dtype=int)\n",
    "    comb[:, :, :n] = particles[:, None, :]\n",
    "    comb[:, :, n:] = particles\n",
    "    comb.shape = (m * m, -1) # shape is 4 columns w len(particles) rows\n",
    "    # now we also get p1 -p1 combinations, but\n",
    "    # their inter-particle distance is 0, so we can ignore that fact\n",
    "\n",
    "    return 1/np.sum(euclidean_vec(comb))"
   ],
   "metadata": {
    "collapsed": false,
    "pycharm": {
     "name": "#%%\n"
    }
   }
  },
  {
   "cell_type": "code",
   "execution_count": 14,
   "outputs": [
    {
     "data": {
      "text/plain": "0.0009934116818428723"
     },
     "execution_count": 14,
     "metadata": {},
     "output_type": "execute_result"
    }
   ],
   "source": [
    "evaluate_configuration_fast(particles)"
   ],
   "metadata": {
    "collapsed": false,
    "pycharm": {
     "name": "#%%\n"
    }
   }
  },
  {
   "cell_type": "markdown",
   "source": [
    "---------------\n"
   ],
   "metadata": {
    "collapsed": false,
    "pycharm": {
     "name": "#%% md\n"
    }
   }
  },
  {
   "cell_type": "code",
   "execution_count": 87,
   "outputs": [],
   "source": [
    "import matplotlib.cm as cm\n",
    "\n",
    "def plot_ez(init_points, res):\n",
    "    points = res\n",
    "\n",
    "    theta = np.linspace(0, 2 * np.pi, 150)\n",
    "    a = 1 * np.cos(theta)\n",
    "    b = 1 * np.sin(theta)\n",
    "\n",
    "    fig, ax = plt.subplots(1, figsize = (8,8))\n",
    "    ax.plot(a, b, color='black')\n",
    "    # plotpoints = []\n",
    "    # for p in points:\n",
    "    colors = list(cm.rainbow(np.linspace(0, 1, len(points))))\n",
    "    for i in range(len(points)):\n",
    "        ax.scatter(init_points[i,0], init_points[i,1],color=colors[i])\n",
    "        ax.scatter(points[i,0], points[i,1],s=100,marker='X',color=colors[i])\n",
    "    # scatter = ax.scatter(init_points[:,0], init_points[:,1], color='black',label='before')\n",
    "    # scatter = ax.scatter(points[:,0], points[:,1], color='red',s=100,marker='x', label = 'black')\n",
    "\n",
    "    ax.set_aspect(1)\n",
    "    plt.legend()"
   ],
   "metadata": {
    "collapsed": false,
    "pycharm": {
     "name": "#%%\n"
    }
   }
  },
  {
   "cell_type": "code",
   "execution_count": 88,
   "outputs": [
    {
     "name": "stderr",
     "output_type": "stream",
     "text": [
      "No artists with labels found to put in legend.  Note that artists whose label start with an underscore are ignored when legend() is called with no argument.\n"
     ]
    },
    {
     "name": "stdout",
     "output_type": "stream",
     "text": [
      "[[ 0.4028671   0.81706605]\n",
      " [ 0.35703593 -0.22711501]\n",
      " [ 0.23198863  0.88836221]\n",
      " [ 0.06230921 -0.8204799 ]]\n",
      "[0.5 0.  1.  1. ]\n"
     ]
    },
    {
     "data": {
      "text/plain": "<Figure size 576x576 with 1 Axes>",
      "image/png": "[encoded data removed]"
     },
     "metadata": {
      "needs_background": "light"
     },
     "output_type": "display_data"
    }
   ],
   "source": [
    "\n",
    "\n",
    "my_charge = charges.Charges(4,1)\n",
    "init_points = my_charge.generate_points(4)\n",
    "print(init_points)\n",
    "my_charge.evaluate_configuration()\n",
    "# my_charge.evaluate_configuration_fast() # does not work, div by 0\n",
    "colors = cm.rainbow(np.linspace(0, 1, len(init_points)))\n",
    "print(colors[0])\n",
    "res = my_charge.iterate_SA_optimize(0,50,100,'exponential_0.01', False)\n",
    "res\n",
    "plot_ez(init_points,res)"
   ],
   "metadata": {
    "collapsed": false,
    "pycharm": {
     "name": "#%%\n"
    }
   }
  },
  {
   "cell_type": "code",
   "execution_count": 41,
   "outputs": [
    {
     "data": {
      "text/plain": "array([[-0.43540414,  0.40953637],\n       [ 0.61326228, -0.20973377]])"
     },
     "execution_count": 41,
     "metadata": {},
     "output_type": "execute_result"
    }
   ],
   "source": [],
   "metadata": {
    "collapsed": false,
    "pycharm": {
     "name": "#%%\n"
    }
   }
  },
  {
   "cell_type": "code",
   "execution_count": null,
   "outputs": [],
   "source": [],
   "metadata": {
    "collapsed": false,
    "pycharm": {
     "name": "#%%\n",
     "is_executing": true
    }
   }
  },
  {
   "cell_type": "code",
   "execution_count": null,
   "outputs": [],
   "source": [],
   "metadata": {
    "collapsed": false,
    "pycharm": {
     "name": "#%%\n"
    }
   }
  }
 ],
 "metadata": {
  "kernelspec": {
   "display_name": "Python 3",
   "language": "python",
   "name": "python3"
  },
  "language_info": {
   "codemirror_mode": {
    "name": "ipython",
    "version": 2
   },
   "file_extension": ".py",
   "mimetype": "text/x-python",
   "name": "python",
   "nbconvert_exporter": "python",
   "pygments_lexer": "ipython2",
   "version": "2.7.6"
  }
 },
 "nbformat": 4,
 "nbformat_minor": 0
}