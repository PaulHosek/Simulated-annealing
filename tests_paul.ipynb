{
 "cells": [
  {
   "cell_type": "code",
   "execution_count": 1,
   "metadata": {
    "collapsed": true,
    "pycharm": {
     "name": "#%%\n"
    }
   },
   "outputs": [],
   "source": [
    "import numpy as np\n",
    "import matplotlib.pyplot as plt\n",
    "import math\n",
    "import numba as nb\n",
    "import charges as charges\n",
    "import plotting as plotting\n",
    "from itertools import combinations"
   ]
  },
  {
   "cell_type": "code",
   "execution_count": 2,
   "outputs": [],
   "source": [
    "def euclidean_vec(combs):\n",
    "    \"\"\" Compute the euclidean distance between two points\n",
    "    \"\"\"\n",
    "\n",
    "    return np.sqrt((combs[:,0]- combs[:,2])**2 + (combs[:,1]- combs[:,3])**2)\n",
    "    # return np.linalg.norm(p2 - p1)\n",
    "\n",
    "def evaluate_configuration_fast(particles):\n",
    "    \"\"\"No idea if this is acc faster.\"\"\"\n",
    "\n",
    "    # generate combinations\n",
    "    m, n = particles.shape\n",
    "    comb = np.zeros((m, m, n + n), dtype=float)\n",
    "    comb[:, :, :n] = particles[:, None, :]\n",
    "    comb[:, :, n:] = particles\n",
    "    comb.shape = (m * m, -1) # shape is 4 columns w len(particles) rows\n",
    "    # now we also get p1 -p1 combinations, but\n",
    "    # their inter-particle distance is 0, so we can ignore that fact\n",
    "    d = euclidean_vec(comb)\n",
    "    return 1/np.sum(d[d != 0])\n",
    "\n",
    "def euclidean(p1, p2):\n",
    "    \"\"\" Compute the euclidean distance between two points\n",
    "    \"\"\"\n",
    "    return np.linalg.norm(p2 - p1)\n",
    "\n",
    "def evaluate_configuration(particles):\n",
    "    \"\"\" Calculate the total energy of the current configuration\n",
    "    \"\"\"\n",
    "    total = 0\n",
    "    for i, j in list(combinations(range(len(particles)), 2)):\n",
    "        p1, p2 = particles[i], particles[j]\n",
    "        total += 1 / euclidean(p1, p2)\n",
    "\n",
    "    return total"
   ],
   "metadata": {
    "collapsed": false,
    "pycharm": {
     "name": "#%%\n"
    }
   }
  },
  {
   "cell_type": "markdown",
   "source": [
    "---------------\n"
   ],
   "metadata": {
    "collapsed": false,
    "pycharm": {
     "name": "#%% md\n"
    }
   }
  },
  {
   "cell_type": "code",
   "execution_count": 3,
   "outputs": [
    {
     "data": {
      "text/plain": "[<matplotlib.lines.Line2D at 0x1098c5e40>]"
     },
     "execution_count": 3,
     "metadata": {},
     "output_type": "execute_result"
    },
    {
     "data": {
      "text/plain": "<Figure size 432x288 with 1 Axes>",
      "image/png": "[encoded data removed]"
     },
     "metadata": {
      "needs_background": "light"
     },
     "output_type": "display_data"
    }
   ],
   "source": [
    "high_temp = 50;\n",
    "low_temp = 0.01;\n",
    "n_temps = 100\n",
    "exponential_even = np.geomspace(high_temp, low_temp, n_temps)\n",
    "exponential_0003 = np.exp(-np.arange(0, n_temps) * 30 / n_temps) * high_temp\n",
    "linear = np.linspace(high_temp, low_temp, n_temps)\n",
    "plt.plot(linear)\n",
    "plt.plot(exponential_even)\n",
    "plt.plot(exponential_0003)\n",
    "#\n",
    "# tst_n = [high_temp * math.exp(-0.001*x) for x in range(n_temps)]"
   ],
   "metadata": {
    "collapsed": false,
    "pycharm": {
     "name": "#%%\n"
    }
   }
  },
  {
   "cell_type": "code",
   "execution_count": 4,
   "outputs": [],
   "source": [
    "import matplotlib.cm as cm\n",
    "\n",
    "def plot_ez(init_points, res):\n",
    "    points = res\n",
    "\n",
    "    theta = np.linspace(0, 2 * np.pi, 150)\n",
    "    a = 1 * np.cos(theta)\n",
    "    b = 1 * np.sin(theta)\n",
    "\n",
    "    fig, ax = plt.subplots(1, figsize = (8,8))\n",
    "    ax.plot(a, b, color='black')\n",
    "    # plotpoints = []\n",
    "    # for p in points:\n",
    "    colors = list(cm.rainbow(np.linspace(0, 1, len(points))))\n",
    "    for i in range(len(points)):\n",
    "        ax.scatter(init_points[i,0], init_points[i,1],color=colors[i])\n",
    "        ax.scatter(points[i,0], points[i,1],s=100,marker='X',color=colors[i])\n",
    "    # scatter = ax.scatter(init_points[:,0], init_points[:,1], color='black',label='before')\n",
    "    # scatter = ax.scatter(points[:,0], points[:,1], color='red',s=100,marker='x', label = 'black')\n",
    "    plt.title(\"%d\" % len(res))\n",
    "    ax.set_aspect(1)\n",
    "    # plt.legend()"
   ],
   "metadata": {
    "collapsed": false,
    "pycharm": {
     "name": "#%%\n"
    }
   }
  },
  {
   "cell_type": "code",
   "execution_count": null,
   "outputs": [],
   "source": [
    "\n",
    "\n",
    "my_charge = charges.Charges(12,1,step_size=0.001)\n",
    "init_points = my_charge.particles\n",
    "# print(init_points)\n",
    "# my_charge.evaluate_configuration()\n",
    "# my_charge.evaluate_configuration_fast() # does not work, div by 0\n",
    "colors = cm.rainbow(np.linspace(0, 1, len(init_points)))\n",
    "res = my_charge.iterate_SA_optimize(0.1,50,500_000,'test', True)\n",
    "\n",
    "# evaluate_configuration_fast(res)\n",
    "\n",
    "# m, n = res.shape\n",
    "# comb = np.zeros((m, m, n + n), dtype=float)\n",
    "# comb[:, :, :n] = res[:, None, :]\n",
    "# comb[:, :, n:] = res\n",
    "# comb.shape = (m * m, -1) # shape is 4 columns w len(particles) rows\n",
    "# print(comb)\n",
    "# # now we also get p1 -p1 combinations, but\n",
    "# # their inter-particle distance is 0, so we can ignore that fact\n",
    "#\n",
    "# 1/np.sum(euclidean_vec(comb))\n",
    "\n"
   ],
   "metadata": {
    "collapsed": false,
    "pycharm": {
     "name": "#%%\n"
    }
   }
  },
  {
   "cell_type": "code",
   "execution_count": null,
   "outputs": [],
   "source": [
    "plot_ez(res,res)"
   ],
   "metadata": {
    "collapsed": false,
    "pycharm": {
     "name": "#%%\n"
    }
   }
  },
  {
   "cell_type": "markdown",
   "source": [],
   "metadata": {
    "collapsed": false,
    "pycharm": {
     "name": "#%% md\n"
    }
   }
  },
  {
   "cell_type": "code",
   "execution_count": null,
   "outputs": [],
   "source": [
    "print(evaluate_configuration_fast(init_points))\n",
    "print(evaluate_configuration_fast(res))"
   ],
   "metadata": {
    "collapsed": false,
    "pycharm": {
     "name": "#%%\n"
    }
   }
  },
  {
   "cell_type": "markdown",
   "source": [],
   "metadata": {
    "collapsed": false,
    "pycharm": {
     "name": "#%% md\n"
    }
   }
  },
  {
   "cell_type": "markdown",
   "source": [],
   "metadata": {
    "collapsed": false,
    "pycharm": {
     "name": "#%% md\n"
    }
   }
  },
  {
   "cell_type": "code",
   "execution_count": null,
   "outputs": [],
   "source": [
    "my_data = np.loadtxt('logged_data/20_exponential_0.003_200000.csv', delimiter=',',skiprows=1)"
   ],
   "metadata": {
    "collapsed": false,
    "pycharm": {
     "name": "#%%\n"
    }
   }
  },
  {
   "cell_type": "code",
   "execution_count": null,
   "outputs": [],
   "source": [
    "my_data"
   ],
   "metadata": {
    "collapsed": false,
    "pycharm": {
     "name": "#%%\n"
    }
   }
  },
  {
   "cell_type": "code",
   "execution_count": null,
   "outputs": [],
   "source": [
    "plt.plot(my_data)"
   ],
   "metadata": {
    "collapsed": false,
    "pycharm": {
     "name": "#%%\n"
    }
   }
  }
 ],
 "metadata": {
  "kernelspec": {
   "display_name": "Python 3",
   "language": "python",
   "name": "python3"
  },
  "language_info": {
   "codemirror_mode": {
    "name": "ipython",
    "version": 2
   },
   "file_extension": ".py",
   "mimetype": "text/x-python",
   "name": "python",
   "nbconvert_exporter": "python",
   "pygments_lexer": "ipython2",
   "version": "2.7.6"
  }
 },
 "nbformat": 4,
 "nbformat_minor": 0
}